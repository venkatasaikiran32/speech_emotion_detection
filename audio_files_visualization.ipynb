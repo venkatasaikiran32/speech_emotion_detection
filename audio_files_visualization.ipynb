{
 "cells": [
  {
   "cell_type": "code",
   "execution_count": 1,
   "metadata": {},
   "outputs": [
    {
     "name": "stderr",
     "output_type": "stream",
     "text": [
      "C:\\Users\\diego\\Anaconda3\\envs\\emotion_capstone\\lib\\site-packages\\librosa\\util\\decorators.py:9: NumbaDeprecationWarning: \u001b[1mAn import was requested from a module that has moved location.\n",
      "Import of 'jit' requested from: 'numba.decorators', please update to use 'numba.core.decorators' or pin to Numba version 0.48.0. This alias will not be present in Numba version 0.50.0.\u001b[0m\n",
      "  from numba.decorators import jit as optional_jit\n"
     ]
    }
   ],
   "source": [
    "import librosa\n",
    "import librosa.display\n",
    "import numpy as np\n",
    "import pandas as pd\n",
    "import os\n",
    "import sys\n",
    "import glob\n",
    "from scipy.io import wavfile\n",
    "import matplotlib.pyplot as plt\n",
    "\n",
    "\n",
    "\n"
   ]
  },
  {
   "cell_type": "code",
   "execution_count": 2,
   "metadata": {},
   "outputs": [],
   "source": [
    "df = pd.read_csv('RawData2\\KL\\emotion_capstone_final_dataframe.csv')"
   ]
  },
  {
   "cell_type": "code",
   "execution_count": 3,
   "metadata": {},
   "outputs": [
    {
     "data": {
      "text/plain": [
       "(1650, 42)"
      ]
     },
     "execution_count": 3,
     "metadata": {},
     "output_type": "execute_result"
    }
   ],
   "source": [
    "df.shape"
   ]
  },
  {
   "cell_type": "code",
   "execution_count": 4,
   "metadata": {},
   "outputs": [],
   "source": [
    "df = pd.DataFrame(data=df)"
   ]
  },
  {
   "cell_type": "code",
   "execution_count": 5,
   "metadata": {},
   "outputs": [
    {
     "data": {
      "text/html": [
       "<div>\n",
       "<style scoped>\n",
       "    .dataframe tbody tr th:only-of-type {\n",
       "        vertical-align: middle;\n",
       "    }\n",
       "\n",
       "    .dataframe tbody tr th {\n",
       "        vertical-align: top;\n",
       "    }\n",
       "\n",
       "    .dataframe thead th {\n",
       "        text-align: right;\n",
       "    }\n",
       "</style>\n",
       "<table border=\"1\" class=\"dataframe\">\n",
       "  <thead>\n",
       "    <tr style=\"text-align: right;\">\n",
       "      <th></th>\n",
       "      <th>Unnamed: 0</th>\n",
       "      <th>0</th>\n",
       "      <th>1</th>\n",
       "      <th>2</th>\n",
       "      <th>3</th>\n",
       "      <th>4</th>\n",
       "      <th>5</th>\n",
       "      <th>6</th>\n",
       "      <th>7</th>\n",
       "      <th>8</th>\n",
       "      <th>...</th>\n",
       "      <th>31</th>\n",
       "      <th>32</th>\n",
       "      <th>33</th>\n",
       "      <th>34</th>\n",
       "      <th>35</th>\n",
       "      <th>36</th>\n",
       "      <th>37</th>\n",
       "      <th>38</th>\n",
       "      <th>39</th>\n",
       "      <th>emotion</th>\n",
       "    </tr>\n",
       "  </thead>\n",
       "  <tbody>\n",
       "    <tr>\n",
       "      <th>0</th>\n",
       "      <td>0</td>\n",
       "      <td>-401.176761</td>\n",
       "      <td>40.388399</td>\n",
       "      <td>-47.799587</td>\n",
       "      <td>14.621850</td>\n",
       "      <td>-43.185431</td>\n",
       "      <td>5.867797</td>\n",
       "      <td>-22.586651</td>\n",
       "      <td>-12.906635</td>\n",
       "      <td>-11.655658</td>\n",
       "      <td>...</td>\n",
       "      <td>-0.952078</td>\n",
       "      <td>2.068140</td>\n",
       "      <td>-1.707685</td>\n",
       "      <td>3.627046</td>\n",
       "      <td>-2.661033</td>\n",
       "      <td>-0.313064</td>\n",
       "      <td>-0.416730</td>\n",
       "      <td>1.828343</td>\n",
       "      <td>1.979159</td>\n",
       "      <td>angry</td>\n",
       "    </tr>\n",
       "    <tr>\n",
       "      <th>1</th>\n",
       "      <td>1</td>\n",
       "      <td>-301.892747</td>\n",
       "      <td>95.868674</td>\n",
       "      <td>-11.458268</td>\n",
       "      <td>40.534363</td>\n",
       "      <td>-9.330877</td>\n",
       "      <td>15.444353</td>\n",
       "      <td>-10.862431</td>\n",
       "      <td>6.102333</td>\n",
       "      <td>-0.980188</td>\n",
       "      <td>...</td>\n",
       "      <td>-0.977972</td>\n",
       "      <td>1.902699</td>\n",
       "      <td>-1.977025</td>\n",
       "      <td>2.584348</td>\n",
       "      <td>-0.160907</td>\n",
       "      <td>-2.295612</td>\n",
       "      <td>-3.892836</td>\n",
       "      <td>-2.953652</td>\n",
       "      <td>-1.189178</td>\n",
       "      <td>calm</td>\n",
       "    </tr>\n",
       "    <tr>\n",
       "      <th>2</th>\n",
       "      <td>2</td>\n",
       "      <td>-407.719163</td>\n",
       "      <td>54.587267</td>\n",
       "      <td>-20.149434</td>\n",
       "      <td>12.762218</td>\n",
       "      <td>8.965409</td>\n",
       "      <td>-14.100747</td>\n",
       "      <td>-1.792696</td>\n",
       "      <td>4.680410</td>\n",
       "      <td>-14.824195</td>\n",
       "      <td>...</td>\n",
       "      <td>4.040218</td>\n",
       "      <td>4.703747</td>\n",
       "      <td>4.275572</td>\n",
       "      <td>0.952382</td>\n",
       "      <td>3.142994</td>\n",
       "      <td>2.182665</td>\n",
       "      <td>7.376123</td>\n",
       "      <td>10.495854</td>\n",
       "      <td>12.959307</td>\n",
       "      <td>angry</td>\n",
       "    </tr>\n",
       "    <tr>\n",
       "      <th>3</th>\n",
       "      <td>3</td>\n",
       "      <td>-351.369223</td>\n",
       "      <td>90.834157</td>\n",
       "      <td>-1.748489</td>\n",
       "      <td>30.244383</td>\n",
       "      <td>-11.684535</td>\n",
       "      <td>14.431207</td>\n",
       "      <td>-11.229159</td>\n",
       "      <td>0.153730</td>\n",
       "      <td>-4.840090</td>\n",
       "      <td>...</td>\n",
       "      <td>-1.312756</td>\n",
       "      <td>0.814795</td>\n",
       "      <td>-1.876428</td>\n",
       "      <td>1.950741</td>\n",
       "      <td>-0.607374</td>\n",
       "      <td>-1.459702</td>\n",
       "      <td>-3.754882</td>\n",
       "      <td>-2.770236</td>\n",
       "      <td>0.212650</td>\n",
       "      <td>calm</td>\n",
       "    </tr>\n",
       "    <tr>\n",
       "      <th>4</th>\n",
       "      <td>4</td>\n",
       "      <td>-293.424697</td>\n",
       "      <td>48.372537</td>\n",
       "      <td>-45.288189</td>\n",
       "      <td>17.068676</td>\n",
       "      <td>-29.603865</td>\n",
       "      <td>6.685158</td>\n",
       "      <td>-28.981870</td>\n",
       "      <td>-5.466090</td>\n",
       "      <td>-20.983672</td>\n",
       "      <td>...</td>\n",
       "      <td>-4.210356</td>\n",
       "      <td>1.521929</td>\n",
       "      <td>-2.643460</td>\n",
       "      <td>1.188280</td>\n",
       "      <td>-1.002704</td>\n",
       "      <td>2.402358</td>\n",
       "      <td>1.114860</td>\n",
       "      <td>-0.746431</td>\n",
       "      <td>-2.054573</td>\n",
       "      <td>angry</td>\n",
       "    </tr>\n",
       "  </tbody>\n",
       "</table>\n",
       "<p>5 rows × 42 columns</p>\n",
       "</div>"
      ],
      "text/plain": [
       "   Unnamed: 0           0          1          2          3          4  \\\n",
       "0           0 -401.176761  40.388399 -47.799587  14.621850 -43.185431   \n",
       "1           1 -301.892747  95.868674 -11.458268  40.534363  -9.330877   \n",
       "2           2 -407.719163  54.587267 -20.149434  12.762218   8.965409   \n",
       "3           3 -351.369223  90.834157  -1.748489  30.244383 -11.684535   \n",
       "4           4 -293.424697  48.372537 -45.288189  17.068676 -29.603865   \n",
       "\n",
       "           5          6          7          8  ...        31        32  \\\n",
       "0   5.867797 -22.586651 -12.906635 -11.655658  ... -0.952078  2.068140   \n",
       "1  15.444353 -10.862431   6.102333  -0.980188  ... -0.977972  1.902699   \n",
       "2 -14.100747  -1.792696   4.680410 -14.824195  ...  4.040218  4.703747   \n",
       "3  14.431207 -11.229159   0.153730  -4.840090  ... -1.312756  0.814795   \n",
       "4   6.685158 -28.981870  -5.466090 -20.983672  ... -4.210356  1.521929   \n",
       "\n",
       "         33        34        35        36        37         38         39  \\\n",
       "0 -1.707685  3.627046 -2.661033 -0.313064 -0.416730   1.828343   1.979159   \n",
       "1 -1.977025  2.584348 -0.160907 -2.295612 -3.892836  -2.953652  -1.189178   \n",
       "2  4.275572  0.952382  3.142994  2.182665  7.376123  10.495854  12.959307   \n",
       "3 -1.876428  1.950741 -0.607374 -1.459702 -3.754882  -2.770236   0.212650   \n",
       "4 -2.643460  1.188280 -1.002704  2.402358  1.114860  -0.746431  -2.054573   \n",
       "\n",
       "   emotion  \n",
       "0    angry  \n",
       "1     calm  \n",
       "2    angry  \n",
       "3     calm  \n",
       "4    angry  \n",
       "\n",
       "[5 rows x 42 columns]"
      ]
     },
     "execution_count": 5,
     "metadata": {},
     "output_type": "execute_result"
    }
   ],
   "source": [
    "df.head()"
   ]
  },
  {
   "cell_type": "code",
   "execution_count": 6,
   "metadata": {},
   "outputs": [
    {
     "data": {
      "text/html": [
       "<div>\n",
       "<style scoped>\n",
       "    .dataframe tbody tr th:only-of-type {\n",
       "        vertical-align: middle;\n",
       "    }\n",
       "\n",
       "    .dataframe tbody tr th {\n",
       "        vertical-align: top;\n",
       "    }\n",
       "\n",
       "    .dataframe thead th {\n",
       "        text-align: right;\n",
       "    }\n",
       "</style>\n",
       "<table border=\"1\" class=\"dataframe\">\n",
       "  <thead>\n",
       "    <tr style=\"text-align: right;\">\n",
       "      <th></th>\n",
       "      <th>0</th>\n",
       "      <th>1</th>\n",
       "      <th>2</th>\n",
       "      <th>3</th>\n",
       "      <th>4</th>\n",
       "      <th>5</th>\n",
       "      <th>6</th>\n",
       "      <th>7</th>\n",
       "      <th>8</th>\n",
       "      <th>9</th>\n",
       "      <th>...</th>\n",
       "      <th>31</th>\n",
       "      <th>32</th>\n",
       "      <th>33</th>\n",
       "      <th>34</th>\n",
       "      <th>35</th>\n",
       "      <th>36</th>\n",
       "      <th>37</th>\n",
       "      <th>38</th>\n",
       "      <th>39</th>\n",
       "      <th>emotion</th>\n",
       "    </tr>\n",
       "    <tr>\n",
       "      <th>Unnamed: 0</th>\n",
       "      <th></th>\n",
       "      <th></th>\n",
       "      <th></th>\n",
       "      <th></th>\n",
       "      <th></th>\n",
       "      <th></th>\n",
       "      <th></th>\n",
       "      <th></th>\n",
       "      <th></th>\n",
       "      <th></th>\n",
       "      <th></th>\n",
       "      <th></th>\n",
       "      <th></th>\n",
       "      <th></th>\n",
       "      <th></th>\n",
       "      <th></th>\n",
       "      <th></th>\n",
       "      <th></th>\n",
       "      <th></th>\n",
       "      <th></th>\n",
       "      <th></th>\n",
       "    </tr>\n",
       "  </thead>\n",
       "  <tbody>\n",
       "    <tr>\n",
       "      <th>0</th>\n",
       "      <td>-401.176761</td>\n",
       "      <td>40.388399</td>\n",
       "      <td>-47.799587</td>\n",
       "      <td>14.621850</td>\n",
       "      <td>-43.185431</td>\n",
       "      <td>5.867797</td>\n",
       "      <td>-22.586651</td>\n",
       "      <td>-12.906635</td>\n",
       "      <td>-11.655658</td>\n",
       "      <td>-9.111767</td>\n",
       "      <td>...</td>\n",
       "      <td>-0.952078</td>\n",
       "      <td>2.068140</td>\n",
       "      <td>-1.707685</td>\n",
       "      <td>3.627046</td>\n",
       "      <td>-2.661033</td>\n",
       "      <td>-0.313064</td>\n",
       "      <td>-0.416730</td>\n",
       "      <td>1.828343</td>\n",
       "      <td>1.979159</td>\n",
       "      <td>angry</td>\n",
       "    </tr>\n",
       "    <tr>\n",
       "      <th>1</th>\n",
       "      <td>-301.892747</td>\n",
       "      <td>95.868674</td>\n",
       "      <td>-11.458268</td>\n",
       "      <td>40.534363</td>\n",
       "      <td>-9.330877</td>\n",
       "      <td>15.444353</td>\n",
       "      <td>-10.862431</td>\n",
       "      <td>6.102333</td>\n",
       "      <td>-0.980188</td>\n",
       "      <td>3.708385</td>\n",
       "      <td>...</td>\n",
       "      <td>-0.977972</td>\n",
       "      <td>1.902699</td>\n",
       "      <td>-1.977025</td>\n",
       "      <td>2.584348</td>\n",
       "      <td>-0.160907</td>\n",
       "      <td>-2.295612</td>\n",
       "      <td>-3.892836</td>\n",
       "      <td>-2.953652</td>\n",
       "      <td>-1.189178</td>\n",
       "      <td>calm</td>\n",
       "    </tr>\n",
       "    <tr>\n",
       "      <th>2</th>\n",
       "      <td>-407.719163</td>\n",
       "      <td>54.587267</td>\n",
       "      <td>-20.149434</td>\n",
       "      <td>12.762218</td>\n",
       "      <td>8.965409</td>\n",
       "      <td>-14.100747</td>\n",
       "      <td>-1.792696</td>\n",
       "      <td>4.680410</td>\n",
       "      <td>-14.824195</td>\n",
       "      <td>0.241326</td>\n",
       "      <td>...</td>\n",
       "      <td>4.040218</td>\n",
       "      <td>4.703747</td>\n",
       "      <td>4.275572</td>\n",
       "      <td>0.952382</td>\n",
       "      <td>3.142994</td>\n",
       "      <td>2.182665</td>\n",
       "      <td>7.376123</td>\n",
       "      <td>10.495854</td>\n",
       "      <td>12.959307</td>\n",
       "      <td>angry</td>\n",
       "    </tr>\n",
       "    <tr>\n",
       "      <th>3</th>\n",
       "      <td>-351.369223</td>\n",
       "      <td>90.834157</td>\n",
       "      <td>-1.748489</td>\n",
       "      <td>30.244383</td>\n",
       "      <td>-11.684535</td>\n",
       "      <td>14.431207</td>\n",
       "      <td>-11.229159</td>\n",
       "      <td>0.153730</td>\n",
       "      <td>-4.840090</td>\n",
       "      <td>4.244757</td>\n",
       "      <td>...</td>\n",
       "      <td>-1.312756</td>\n",
       "      <td>0.814795</td>\n",
       "      <td>-1.876428</td>\n",
       "      <td>1.950741</td>\n",
       "      <td>-0.607374</td>\n",
       "      <td>-1.459702</td>\n",
       "      <td>-3.754882</td>\n",
       "      <td>-2.770236</td>\n",
       "      <td>0.212650</td>\n",
       "      <td>calm</td>\n",
       "    </tr>\n",
       "    <tr>\n",
       "      <th>4</th>\n",
       "      <td>-293.424697</td>\n",
       "      <td>48.372537</td>\n",
       "      <td>-45.288189</td>\n",
       "      <td>17.068676</td>\n",
       "      <td>-29.603865</td>\n",
       "      <td>6.685158</td>\n",
       "      <td>-28.981870</td>\n",
       "      <td>-5.466090</td>\n",
       "      <td>-20.983672</td>\n",
       "      <td>-10.223999</td>\n",
       "      <td>...</td>\n",
       "      <td>-4.210356</td>\n",
       "      <td>1.521929</td>\n",
       "      <td>-2.643460</td>\n",
       "      <td>1.188280</td>\n",
       "      <td>-1.002704</td>\n",
       "      <td>2.402358</td>\n",
       "      <td>1.114860</td>\n",
       "      <td>-0.746431</td>\n",
       "      <td>-2.054573</td>\n",
       "      <td>angry</td>\n",
       "    </tr>\n",
       "    <tr>\n",
       "      <th>...</th>\n",
       "      <td>...</td>\n",
       "      <td>...</td>\n",
       "      <td>...</td>\n",
       "      <td>...</td>\n",
       "      <td>...</td>\n",
       "      <td>...</td>\n",
       "      <td>...</td>\n",
       "      <td>...</td>\n",
       "      <td>...</td>\n",
       "      <td>...</td>\n",
       "      <td>...</td>\n",
       "      <td>...</td>\n",
       "      <td>...</td>\n",
       "      <td>...</td>\n",
       "      <td>...</td>\n",
       "      <td>...</td>\n",
       "      <td>...</td>\n",
       "      <td>...</td>\n",
       "      <td>...</td>\n",
       "      <td>...</td>\n",
       "      <td>...</td>\n",
       "    </tr>\n",
       "    <tr>\n",
       "      <th>1645</th>\n",
       "      <td>-358.062435</td>\n",
       "      <td>147.396788</td>\n",
       "      <td>23.699979</td>\n",
       "      <td>18.384142</td>\n",
       "      <td>4.846204</td>\n",
       "      <td>-6.655796</td>\n",
       "      <td>-17.880633</td>\n",
       "      <td>0.199721</td>\n",
       "      <td>0.122494</td>\n",
       "      <td>-15.151512</td>\n",
       "      <td>...</td>\n",
       "      <td>-0.473077</td>\n",
       "      <td>1.293610</td>\n",
       "      <td>-0.384977</td>\n",
       "      <td>2.411330</td>\n",
       "      <td>4.800443</td>\n",
       "      <td>4.259010</td>\n",
       "      <td>7.555439</td>\n",
       "      <td>5.398773</td>\n",
       "      <td>4.101442</td>\n",
       "      <td>disgust</td>\n",
       "    </tr>\n",
       "    <tr>\n",
       "      <th>1646</th>\n",
       "      <td>-605.129608</td>\n",
       "      <td>130.984815</td>\n",
       "      <td>29.639794</td>\n",
       "      <td>33.226497</td>\n",
       "      <td>11.118424</td>\n",
       "      <td>-11.121490</td>\n",
       "      <td>-3.089128</td>\n",
       "      <td>2.275893</td>\n",
       "      <td>-9.358654</td>\n",
       "      <td>-10.436418</td>\n",
       "      <td>...</td>\n",
       "      <td>0.906283</td>\n",
       "      <td>-0.827077</td>\n",
       "      <td>-1.197097</td>\n",
       "      <td>0.230243</td>\n",
       "      <td>-0.735232</td>\n",
       "      <td>0.180622</td>\n",
       "      <td>-0.729409</td>\n",
       "      <td>-0.790709</td>\n",
       "      <td>-1.664200</td>\n",
       "      <td>neutral</td>\n",
       "    </tr>\n",
       "    <tr>\n",
       "      <th>1647</th>\n",
       "      <td>-245.855328</td>\n",
       "      <td>101.373006</td>\n",
       "      <td>-9.976512</td>\n",
       "      <td>18.723278</td>\n",
       "      <td>-4.360362</td>\n",
       "      <td>-0.969544</td>\n",
       "      <td>-16.657620</td>\n",
       "      <td>-0.948999</td>\n",
       "      <td>-8.789588</td>\n",
       "      <td>2.312213</td>\n",
       "      <td>...</td>\n",
       "      <td>1.152971</td>\n",
       "      <td>1.290726</td>\n",
       "      <td>2.103982</td>\n",
       "      <td>3.195952</td>\n",
       "      <td>2.645333</td>\n",
       "      <td>2.751843</td>\n",
       "      <td>-0.354423</td>\n",
       "      <td>0.226935</td>\n",
       "      <td>1.135153</td>\n",
       "      <td>angry</td>\n",
       "    </tr>\n",
       "    <tr>\n",
       "      <th>1648</th>\n",
       "      <td>-419.702144</td>\n",
       "      <td>141.479865</td>\n",
       "      <td>20.359528</td>\n",
       "      <td>30.574764</td>\n",
       "      <td>1.988487</td>\n",
       "      <td>0.526305</td>\n",
       "      <td>-16.253426</td>\n",
       "      <td>-3.618809</td>\n",
       "      <td>-0.678762</td>\n",
       "      <td>1.644941</td>\n",
       "      <td>...</td>\n",
       "      <td>1.691011</td>\n",
       "      <td>2.654406</td>\n",
       "      <td>4.690657</td>\n",
       "      <td>2.999202</td>\n",
       "      <td>3.176517</td>\n",
       "      <td>6.611485</td>\n",
       "      <td>7.614380</td>\n",
       "      <td>7.493077</td>\n",
       "      <td>8.885912</td>\n",
       "      <td>sad</td>\n",
       "    </tr>\n",
       "    <tr>\n",
       "      <th>1649</th>\n",
       "      <td>-554.035005</td>\n",
       "      <td>114.739390</td>\n",
       "      <td>23.533646</td>\n",
       "      <td>42.429074</td>\n",
       "      <td>1.266781</td>\n",
       "      <td>-7.022068</td>\n",
       "      <td>-11.535671</td>\n",
       "      <td>-2.073259</td>\n",
       "      <td>-9.045592</td>\n",
       "      <td>-12.373629</td>\n",
       "      <td>...</td>\n",
       "      <td>-0.280155</td>\n",
       "      <td>-0.201934</td>\n",
       "      <td>-1.841307</td>\n",
       "      <td>-0.104219</td>\n",
       "      <td>-0.302303</td>\n",
       "      <td>0.992844</td>\n",
       "      <td>1.873962</td>\n",
       "      <td>-2.194395</td>\n",
       "      <td>-0.949586</td>\n",
       "      <td>angry</td>\n",
       "    </tr>\n",
       "  </tbody>\n",
       "</table>\n",
       "<p>1650 rows × 41 columns</p>\n",
       "</div>"
      ],
      "text/plain": [
       "                     0           1          2          3          4  \\\n",
       "Unnamed: 0                                                            \n",
       "0          -401.176761   40.388399 -47.799587  14.621850 -43.185431   \n",
       "1          -301.892747   95.868674 -11.458268  40.534363  -9.330877   \n",
       "2          -407.719163   54.587267 -20.149434  12.762218   8.965409   \n",
       "3          -351.369223   90.834157  -1.748489  30.244383 -11.684535   \n",
       "4          -293.424697   48.372537 -45.288189  17.068676 -29.603865   \n",
       "...                ...         ...        ...        ...        ...   \n",
       "1645       -358.062435  147.396788  23.699979  18.384142   4.846204   \n",
       "1646       -605.129608  130.984815  29.639794  33.226497  11.118424   \n",
       "1647       -245.855328  101.373006  -9.976512  18.723278  -4.360362   \n",
       "1648       -419.702144  141.479865  20.359528  30.574764   1.988487   \n",
       "1649       -554.035005  114.739390  23.533646  42.429074   1.266781   \n",
       "\n",
       "                    5          6          7          8          9  ...  \\\n",
       "Unnamed: 0                                                         ...   \n",
       "0            5.867797 -22.586651 -12.906635 -11.655658  -9.111767  ...   \n",
       "1           15.444353 -10.862431   6.102333  -0.980188   3.708385  ...   \n",
       "2          -14.100747  -1.792696   4.680410 -14.824195   0.241326  ...   \n",
       "3           14.431207 -11.229159   0.153730  -4.840090   4.244757  ...   \n",
       "4            6.685158 -28.981870  -5.466090 -20.983672 -10.223999  ...   \n",
       "...               ...        ...        ...        ...        ...  ...   \n",
       "1645        -6.655796 -17.880633   0.199721   0.122494 -15.151512  ...   \n",
       "1646       -11.121490  -3.089128   2.275893  -9.358654 -10.436418  ...   \n",
       "1647        -0.969544 -16.657620  -0.948999  -8.789588   2.312213  ...   \n",
       "1648         0.526305 -16.253426  -3.618809  -0.678762   1.644941  ...   \n",
       "1649        -7.022068 -11.535671  -2.073259  -9.045592 -12.373629  ...   \n",
       "\n",
       "                  31        32        33        34        35        36  \\\n",
       "Unnamed: 0                                                               \n",
       "0          -0.952078  2.068140 -1.707685  3.627046 -2.661033 -0.313064   \n",
       "1          -0.977972  1.902699 -1.977025  2.584348 -0.160907 -2.295612   \n",
       "2           4.040218  4.703747  4.275572  0.952382  3.142994  2.182665   \n",
       "3          -1.312756  0.814795 -1.876428  1.950741 -0.607374 -1.459702   \n",
       "4          -4.210356  1.521929 -2.643460  1.188280 -1.002704  2.402358   \n",
       "...              ...       ...       ...       ...       ...       ...   \n",
       "1645       -0.473077  1.293610 -0.384977  2.411330  4.800443  4.259010   \n",
       "1646        0.906283 -0.827077 -1.197097  0.230243 -0.735232  0.180622   \n",
       "1647        1.152971  1.290726  2.103982  3.195952  2.645333  2.751843   \n",
       "1648        1.691011  2.654406  4.690657  2.999202  3.176517  6.611485   \n",
       "1649       -0.280155 -0.201934 -1.841307 -0.104219 -0.302303  0.992844   \n",
       "\n",
       "                  37         38         39  emotion  \n",
       "Unnamed: 0                                           \n",
       "0          -0.416730   1.828343   1.979159    angry  \n",
       "1          -3.892836  -2.953652  -1.189178     calm  \n",
       "2           7.376123  10.495854  12.959307    angry  \n",
       "3          -3.754882  -2.770236   0.212650     calm  \n",
       "4           1.114860  -0.746431  -2.054573    angry  \n",
       "...              ...        ...        ...      ...  \n",
       "1645        7.555439   5.398773   4.101442  disgust  \n",
       "1646       -0.729409  -0.790709  -1.664200  neutral  \n",
       "1647       -0.354423   0.226935   1.135153    angry  \n",
       "1648        7.614380   7.493077   8.885912      sad  \n",
       "1649        1.873962  -2.194395  -0.949586    angry  \n",
       "\n",
       "[1650 rows x 41 columns]"
      ]
     },
     "execution_count": 6,
     "metadata": {},
     "output_type": "execute_result"
    }
   ],
   "source": [
    "df.set_index('Unnamed: 0')"
   ]
  },
  {
   "cell_type": "code",
   "execution_count": 7,
   "metadata": {},
   "outputs": [
    {
     "data": {
      "text/plain": [
       "<function matplotlib.pyplot.figure(num=None, figsize=None, dpi=None, facecolor=None, edgecolor=None, frameon=True, FigureClass=<class 'matplotlib.figure.Figure'>, clear=False, **kwargs)>"
      ]
     },
     "execution_count": 7,
     "metadata": {},
     "output_type": "execute_result"
    },
    {
     "data": {
      "image/png": "[encoded data removed]",
      "text/plain": [
       "<Figure size 432x288 with 1 Axes>"
      ]
     },
     "metadata": {
      "needs_background": "light"
     },
     "output_type": "display_data"
    }
   ],
   "source": [
    "plt.figure()\n",
    "plt.hist(df['emotion'], bins=9, width=0.5)\n",
    "plt.figure"
   ]
  },
  {
   "cell_type": "markdown",
   "metadata": {},
   "source": [
    "## Graph audio files"
   ]
  },
  {
   "cell_type": "code",
   "execution_count": 8,
   "metadata": {},
   "outputs": [],
   "source": [
    "sample_file = 'RawData/03-01-01-01-01-01-03.wav'"
   ]
  },
  {
   "cell_type": "code",
   "execution_count": 9,
   "metadata": {},
   "outputs": [],
   "source": [
    "#sample \n",
    "#librosa.core.load(path, sr=22050, mono=True, offset=0.0, duration=None, dtype=<class 'numpy.float32'>, res_type='kaiser_best')\n",
    "res_type_s = 'kaiser_best'\n",
    "duration_s = None\n",
    "sample_rate_s = 22050\n",
    "offset_s = 0.5\n",
    "\n",
    "#Mfcc\n",
    "#librosa.feature.mfcc(y=None, sr=22050, S=None, n_mfcc=20, dct_type=2, norm='ortho', lifter=0, **kwargs)\n",
    "mfcc_sample_rate = 22050\n",
    "n_feat = 13\n",
    "n_mfcc = 40 #number of MFCCs to return => number of features\n",
    "n_fft = 552\n",
    "window = 0.4\n",
    "test_shift = 0.1\n",
    "duration = 2.5\n",
    "axis_mfcc = 1 #axis =0 means along the columns and axis =1 along the row"
   ]
  },
  {
   "cell_type": "code",
   "execution_count": 10,
   "metadata": {},
   "outputs": [
    {
     "name": "stdout",
     "output_type": "stream",
     "text": [
      "[ 0.0000000e+00  0.0000000e+00  0.0000000e+00 ...  2.4135685e-05\n",
      " -1.0000023e-05  0.0000000e+00]\n",
      "22050\n"
     ]
    }
   ],
   "source": [
    "# X = audio time series\n",
    "# sample_rate = sampling rate of X\n",
    "\n",
    "X, sample_rate = librosa.load(sample_file, \n",
    "                                  res_type = res_type_s,\n",
    "                                  duration = duration_s,\n",
    "                                  sr = sample_rate_s,\n",
    "                                  offset = offset_s,\n",
    "                                 mono=False)\n",
    "\n",
    "print(X)\n",
    "print(sample_rate)"
   ]
  },
  {
   "cell_type": "code",
   "execution_count": 11,
   "metadata": {},
   "outputs": [
    {
     "name": "stdout",
     "output_type": "stream",
     "text": [
      "[0.00000000e+00 4.53514739e-05 9.07029478e-05 ... 2.93668934e+00\n",
      " 2.93673469e+00 2.93678005e+00]\n"
     ]
    }
   ],
   "source": [
    "time = np.arange(0,len(X))/sample_rate\n",
    "print(time) # prints timeline"
   ]
  },
  {
   "cell_type": "code",
   "execution_count": 18,
   "metadata": {},
   "outputs": [
    {
     "data": {
      "image/png": "[encoded data removed]",
      "text/plain": [
       "<Figure size 432x288 with 1 Axes>"
      ]
     },
     "metadata": {
      "needs_background": "light"
     },
     "output_type": "display_data"
    }
   ],
   "source": [
    "fig, ax = plt.subplots()\n",
    "ax.plot(time,X)\n",
    "ax.set(xlabel='Time(s)',ylabel='Sound amplitude')\n",
    "plt.show()"
   ]
  },
  {
   "cell_type": "code",
   "execution_count": 13,
   "metadata": {
    "scrolled": true
   },
   "outputs": [
    {
     "name": "stderr",
     "output_type": "stream",
     "text": [
      "C:\\Users\\diego\\Anaconda3\\envs\\emotion_capstone\\lib\\site-packages\\librosa\\util\\utils.py:826: FutureWarning: Using a non-tuple sequence for multidimensional indexing is deprecated; use `arr[tuple(seq)]` instead of `arr[seq]`. In the future this will be interpreted as an array index, `arr[np.array(seq)]`, which will result either in an error or a different result.\n",
      "  return (x > x_pad[inds1]) & (x >= x_pad[inds2])\n"
     ]
    },
    {
     "name": "stdout",
     "output_type": "stream",
     "text": [
      "[[0. 0. 0. ... 0. 0. 0.]\n",
      " [0. 0. 0. ... 0. 0. 0.]\n",
      " [0. 0. 0. ... 0. 0. 0.]\n",
      " ...\n",
      " [0. 0. 0. ... 0. 0. 0.]\n",
      " [0. 0. 0. ... 0. 0. 0.]\n",
      " [0. 0. 0. ... 0. 0. 0.]]\n",
      "///\n",
      "[[0. 0. 0. ... 0. 0. 0.]\n",
      " [0. 0. 0. ... 0. 0. 0.]\n",
      " [0. 0. 0. ... 0. 0. 0.]\n",
      " ...\n",
      " [0. 0. 0. ... 0. 0. 0.]\n",
      " [0. 0. 0. ... 0. 0. 0.]\n",
      " [0. 0. 0. ... 0. 0. 0.]]\n"
     ]
    },
    {
     "data": {
      "image/png": "[encoded data removed]",
      "text/plain": [
       "<Figure size 432x288 with 1 Axes>"
      ]
     },
     "metadata": {
      "needs_background": "light"
     },
     "output_type": "display_data"
    },
    {
     "data": {
      "image/png": "[encoded data removed]",
      "text/plain": [
       "<Figure size 432x288 with 1 Axes>"
      ]
     },
     "metadata": {
      "needs_background": "light"
     },
     "output_type": "display_data"
    }
   ],
   "source": [
    "pitches, magnitudes = librosa.piptrack(y=X, sr=sample_rate)\n",
    "print(pitches)\n",
    "print('///')\n",
    "print(magnitudes)\n",
    "plt.subplot(212)\n",
    "plt.show()\n",
    "plt.plot(pitches)\n",
    "plt.show()"
   ]
  },
  {
   "cell_type": "code",
   "execution_count": 14,
   "metadata": {},
   "outputs": [
    {
     "data": {
      "text/plain": [
       "Text(0.5, 1.0, 'Linear-frequency power spectrogram')"
      ]
     },
     "execution_count": 14,
     "metadata": {},
     "output_type": "execute_result"
    },
    {
     "data": {
      "image/png": "[encoded data removed]",
      "text/plain": [
       "<Figure size 720x288 with 2 Axes>"
      ]
     },
     "metadata": {
      "needs_background": "light"
     },
     "output_type": "display_data"
    }
   ],
   "source": [
    "y, sr = librosa.load(sample_file)\n",
    "plt.figure(figsize=(10, 4))\n",
    "\n",
    "D = librosa.amplitude_to_db(np.abs(librosa.stft(y)), ref=np.max)\n",
    "plt.subplot(4, 2, 1)\n",
    "librosa.display.specshow(D, y_axis='linear')\n",
    "plt.colorbar(format='%+2.0f dB')\n",
    "plt.title('Linear-frequency power spectrogram')"
   ]
  },
  {
   "cell_type": "code",
   "execution_count": 15,
   "metadata": {},
   "outputs": [
    {
     "name": "stdout",
     "output_type": "stream",
     "text": [
      "(40, 149)\n"
     ]
    }
   ],
   "source": [
    "librosa_audio, librosa_sample_rate = librosa.load(sample_file)\n",
    "\n",
    "mfccs = librosa.feature.mfcc(y=librosa_audio, sr=librosa_sample_rate, n_mfcc=40)\n",
    "print(mfccs.shape)"
   ]
  },
  {
   "cell_type": "code",
   "execution_count": 16,
   "metadata": {},
   "outputs": [
    {
     "data": {
      "text/plain": [
       "<matplotlib.axes._subplots.AxesSubplot at 0x244a17a8080>"
      ]
     },
     "execution_count": 16,
     "metadata": {},
     "output_type": "execute_result"
    },
    {
     "data": {
      "image/png": "[encoded data removed]",
      "text/plain": [
       "<Figure size 432x288 with 1 Axes>"
      ]
     },
     "metadata": {
      "needs_background": "light"
     },
     "output_type": "display_data"
    }
   ],
   "source": [
    "import librosa.display\n",
    "librosa.display.specshow(mfccs, sr=librosa_sample_rate, x_axis='time')\n",
    "\n",
    "\n"
   ]
  },
  {
   "cell_type": "code",
   "execution_count": 17,
   "metadata": {},
   "outputs": [
    {
     "ename": "NameError",
     "evalue": "name 'stft_db' is not defined",
     "output_type": "error",
     "traceback": [
      "\u001b[1;31m---------------------------------------------------------------------------\u001b[0m",
      "\u001b[1;31mNameError\u001b[0m                                 Traceback (most recent call last)",
      "\u001b[1;32m<ipython-input-17-dcb028b5fd09>\u001b[0m in \u001b[0;36m<module>\u001b[1;34m\u001b[0m\n\u001b[0;32m      5\u001b[0m \u001b[0mplt\u001b[0m\u001b[1;33m.\u001b[0m\u001b[0msubplot\u001b[0m\u001b[1;33m(\u001b[0m\u001b[1;36m211\u001b[0m\u001b[1;33m)\u001b[0m\u001b[1;33m\u001b[0m\u001b[1;33m\u001b[0m\u001b[0m\n\u001b[0;32m      6\u001b[0m \u001b[0mplt\u001b[0m\u001b[1;33m.\u001b[0m\u001b[0mtitle\u001b[0m\u001b[1;33m(\u001b[0m\u001b[1;34m'Spectrogram'\u001b[0m\u001b[1;33m)\u001b[0m\u001b[1;33m\u001b[0m\u001b[1;33m\u001b[0m\u001b[0m\n\u001b[1;32m----> 7\u001b[1;33m \u001b[0mlibrosa\u001b[0m\u001b[1;33m.\u001b[0m\u001b[0mdisplay\u001b[0m\u001b[1;33m.\u001b[0m\u001b[0mspecshow\u001b[0m\u001b[1;33m(\u001b[0m\u001b[0mstft_db\u001b[0m\u001b[1;33m,\u001b[0m \u001b[0mx_axis\u001b[0m\u001b[1;33m=\u001b[0m\u001b[1;34m'time'\u001b[0m\u001b[1;33m,\u001b[0m \u001b[0my_axis\u001b[0m\u001b[1;33m=\u001b[0m\u001b[1;34m'log'\u001b[0m\u001b[1;33m)\u001b[0m\u001b[1;33m\u001b[0m\u001b[1;33m\u001b[0m\u001b[0m\n\u001b[0m\u001b[0;32m      8\u001b[0m \u001b[1;33m\u001b[0m\u001b[0m\n\u001b[0;32m      9\u001b[0m \u001b[0mplt\u001b[0m\u001b[1;33m.\u001b[0m\u001b[0msubplot\u001b[0m\u001b[1;33m(\u001b[0m\u001b[1;36m212\u001b[0m\u001b[1;33m)\u001b[0m\u001b[1;33m\u001b[0m\u001b[1;33m\u001b[0m\u001b[0m\n",
      "\u001b[1;31mNameError\u001b[0m: name 'stft_db' is not defined"
     ]
    },
    {
     "data": {
      "image/png": "[encoded data removed]",
      "text/plain": [
       "<Figure size 1008x648 with 1 Axes>"
      ]
     },
     "metadata": {
      "needs_background": "light"
     },
     "output_type": "display_data"
    }
   ],
   "source": [
    "plt.figure(figsize=(14, 9))\n",
    "\n",
    "plt.figure(1)\n",
    "\n",
    "plt.subplot(211)\n",
    "plt.title('Spectrogram')\n",
    "librosa.display.specshow(stft_db, x_axis='time', y_axis='log')\n",
    "\n",
    "plt.subplot(212)\n",
    "plt.title('Audioform')\n",
    "librosa.display.waveplot(y, sr=sr)"
   ]
  },
  {
   "cell_type": "code",
   "execution_count": null,
   "metadata": {},
   "outputs": [],
   "source": [
    "librosa.feature.melspectrogram(y=X, sr=sample_rate)\n",
    "\n",
    "D = np.abs(librosa.stft(X))**2\n",
    "S = librosa.feature.melspectrogram(S=D)\n",
    "S = librosa.feature.melspectrogram(y=X, sr=sample_rate, n_mels=128,fmax=8000)\n",
    "plt.figure(figsize=(10, 4))\n",
    "librosa.display.specshow(librosa.power_to_db(S,ref=np.max),y_axis='mel', fmax=8000,x_axis='time')\n",
    "plt.colorbar(format='%+2.0f dB')\n",
    "plt.title('Mel spectrogram')\n",
    "plt.tight_layout()\n",
    "plt.show()"
   ]
  },
  {
   "cell_type": "code",
   "execution_count": null,
   "metadata": {},
   "outputs": [],
   "source": [
    "y_fast = librosa.effects.time_stretch(X, 2.0)\n",
    "time = np.arange(0,len(y_fast))/sample_rate\n",
    "fig, ax = plt.subplots()\n",
    "ax.plot(time,y_fast)\n",
    "ax.set(xlabel='Time(s)',ylabel='sound amplitude')\n",
    "plt.show()#compress to be twice as fast\n",
    "\n",
    "y_slow = librosa.effects.time_stretch(X, 0.5)\n",
    "time = np.arange(0,len(y_slow))/sr\n",
    "fig, ax = plt.subplots()\n",
    "ax.plot(time,y_slow)\n",
    "ax.set(xlabel='Time(s)',ylabel='sound amplitude')\n",
    "plt.show()#half the original speed"
   ]
  },
  {
   "cell_type": "code",
   "execution_count": null,
   "metadata": {},
   "outputs": [],
   "source": [
    "S = np.abs(librosa.stft(X))\n",
    "S"
   ]
  },
  {
   "cell_type": "code",
   "execution_count": null,
   "metadata": {},
   "outputs": [],
   "source": [
    "#lms = librosa.power_to_db(S)\n",
    "#lms\n",
    "\n",
    "log_S = librosa.amplitude_to_db(S, ref=np.max)"
   ]
  },
  {
   "cell_type": "code",
   "execution_count": null,
   "metadata": {},
   "outputs": [],
   "source": [
    "from librosa.core import istft\n",
    "vocals = istft(log_S)"
   ]
  },
  {
   "cell_type": "code",
   "execution_count": null,
   "metadata": {},
   "outputs": [],
   "source": [
    "mfccs_test = librosa.feature.mfcc(y=vocals, sr = mfcc_sample_rate, n_mfcc = n_mfcc)\n",
    "mfccs_test"
   ]
  },
  {
   "cell_type": "code",
   "execution_count": null,
   "metadata": {},
   "outputs": [],
   "source": [
    "mfccs_final = np.mean(mfccs_test,axis = axis_mfcc)\n",
    "mfccs_final"
   ]
  },
  {
   "cell_type": "code",
   "execution_count": null,
   "metadata": {},
   "outputs": [],
   "source": [
    "S = np.abs(librosa.stft(X))\n",
    "    lms = librosa.power_to_db(S**2)\n",
    "    #lms = librosa.amplitude_to_db(librosa.feature.melspectrogram(y=X,sr=sample_rate))\n",
    "    mfccs = np.mean(librosa.feature.mfcc(   y=lms, \n",
    "                                            sr = mfcc_sample_rate, \n",
    "                                            n_mfcc = n_mfcc), \n",
    "                                            axis = axis_mfcc) #Can"
   ]
  },
  {
   "cell_type": "code",
   "execution_count": null,
   "metadata": {},
   "outputs": [],
   "source": [
    "sample_rate = np.array(sample_rate)\n",
    "sample_rate"
   ]
  },
  {
   "cell_type": "code",
   "execution_count": null,
   "metadata": {},
   "outputs": [],
   "source": [
    "print(f\"n_mfcc = {n_mfcc}\")\n",
    "print(f\"sr = {mfcc_sample_rate}\")\n",
    "\n",
    "z = librosa.feature.mfcc(X, sr = mfcc_sample_rate, n_mfcc = n_mfcc)\n",
    "for x in z:\n",
    "    print(x)"
   ]
  },
  {
   "cell_type": "code",
   "execution_count": null,
   "metadata": {},
   "outputs": [],
   "source": [
    "mfccs = np.mean(z, axis=1)\n",
    "mfccs"
   ]
  },
  {
   "cell_type": "code",
   "execution_count": null,
   "metadata": {},
   "outputs": [],
   "source": [
    "import seaborn as sns\n",
    "# Put this into a heatmap\n",
    "_min = np.amin(mfccs)\n",
    "_max = np.amax(mfccs)\n",
    "mfcc = (mfccs - _min) / (_max - _min)\n",
    "\n",
    "\n",
    "plt.figure(figsize = (6,4))\n",
    "sns.heatmap(mfcc, cmap = 'GnBu', linewidth = 1)\n",
    "plt.axis('off')"
   ]
  },
  {
   "cell_type": "code",
   "execution_count": null,
   "metadata": {},
   "outputs": [],
   "source": [
    "y,sr = librosa.load(sample_file)\n",
    "print(librosa.get_duration(filename=sample_file))\n",
    "print(librosa.get_duration(y=y,sr=sr))"
   ]
  },
  {
   "cell_type": "code",
   "execution_count": null,
   "metadata": {},
   "outputs": [],
   "source": [
    "\n",
    "    \n",
    "    mfccs = np.mean(librosa.feature.mfcc(y=X, \n",
    "                                            sr = mfcc_sample_rate, \n",
    "                                            n_mfcc = n_mfcc), \n",
    "                    axis = axis_mfcc) #Can change to axis=0 but less efficient\n",
    "    feature = mfccs\n",
    "    rawdata_1.loc[bookmark] = [feature]"
   ]
  },
  {
   "cell_type": "code",
   "execution_count": null,
   "metadata": {},
   "outputs": [],
   "source": []
  }
 ],
 "metadata": {
  "kernelspec": {
   "display_name": "Python 3",
   "language": "python",
   "name": "python3"
  },
  "language_info": {
   "codemirror_mode": {
    "name": "ipython",
    "version": 3
   },
   "file_extension": ".py",
   "mimetype": "text/x-python",
   "name": "python",
   "nbconvert_exporter": "python",
   "pygments_lexer": "ipython3",
   "version": "3.6.10"
  }
 },
 "nbformat": 4,
 "nbformat_minor": 4
}
